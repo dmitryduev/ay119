{
 "cells": [
  {
   "cell_type": "markdown",
   "metadata": {
    "collapsed": true,
    "pycharm": {
     "name": "#%% md\n"
    }
   },
   "source": [
    "# Ay119: Deep learning"
   ]
  },
  {
   "cell_type": "markdown",
   "source": [
    "In this assignment, you will apply your (newly acquired) knowledge of deep learning 101\n",
    "to build a classifier for a real life problem (well, actually not, but almost\n",
    "-- see the very end of this exercise)."
   ],
   "metadata": {
    "collapsed": false,
    "pycharm": {
     "name": "#%% md\n"
    }
   }
  },
  {
   "cell_type": "markdown",
   "source": [
    "**Prerequisites**:\n",
    "\n",
    "Run this in Google Colab! It has all that you will need.\n"
   ],
   "metadata": {
    "collapsed": false,
    "pycharm": {
     "name": "#%% md\n"
    }
   }
  },
  {
   "cell_type": "markdown",
   "source": [
    "## The problem: `rbp` classifier for the `GTF`\n",
    "\n",
    " You are running a state-of-the-art *robotic* sky survey called the Geeky Transient Facility,\n",
    " or GTF, perhaps somewhere in the Southern Hemisphere.\n",
    " You have a fancy image-differencing pipeline that allows you to find interesting objects in the\n",
    " dynamic sky every night, such as supernovae, variable stars, and asteroids, and send them\n",
    " out to the world as alerts.\n",
    "\n",
    " However you notice two things:\n",
    "\n",
    " 1. Your fancy image-differencing pipeline produces a lot of bogus detections.\n",
    " With the increasing data rates you are worried that one day you will run out of\n",
    " graduate students to examine/scan the potentially interesting candidate sources.\n",
    "\n",
    " 2. Your AGI-based robot-telescope is extraordinarily sophisticated and smart,\n",
    "  but has one major soft spot: it really likes platypuses. In fact, the robot likes them\n",
    "  so much that whenever a platypus appears in the vicinity, it halts observing\n",
    "  and instead takes a picture of it and sends it out as an alert.\n",
    "\n",
    "So you decide to build a `real, bogus, or platypus` (`rbp` for short) classifier for GTF.\n"
   ],
   "metadata": {
    "collapsed": false,
    "pycharm": {
     "name": "#%% md\n"
    }
   }
  },
  {
   "cell_type": "markdown",
   "source": [
    "## Transfer learning\n",
    "\n",
    "You are not the first one to encounter a problem like this, so you decide to apply the\n",
    "transfer learning technique and use the real-bogus classifier `braai` that is employed\n",
    "by a similar survey called ZTF running in the Northern Hemisphere.\n"
   ],
   "metadata": {
    "collapsed": false,
    "pycharm": {
     "name": "#%% md\n"
    }
   }
  },
  {
   "cell_type": "markdown",
   "source": [
    "Import the necessities:"
   ],
   "metadata": {
    "collapsed": false,
    "pycharm": {
     "name": "#%% md\n"
    }
   }
  },
  {
   "cell_type": "code",
   "execution_count": 30,
   "outputs": [],
   "source": [
    "import matplotlib.pyplot as plt\n",
    "import numpy as np\n",
    "import pathlib\n",
    "from sklearn.model_selection import train_test_split\n",
    "import tensorflow as tf\n",
    "from tqdm.keras import TqdmCallback"
   ],
   "metadata": {
    "collapsed": false,
    "pycharm": {
     "name": "#%%\n"
    }
   }
  },
  {
   "cell_type": "markdown",
   "source": [
    "### The model\n",
    "\n",
    "Download a pre-trained model:"
   ],
   "metadata": {
    "collapsed": false,
    "pycharm": {
     "name": "#%% md\n"
    }
   }
  },
  {
   "cell_type": "code",
   "execution_count": 2,
   "outputs": [
    {
     "name": "stdout",
     "output_type": "stream",
     "text": [
      "--2020-05-17 01:55:34--  https://github.com/dmitryduev/kowalski/raw/master/kowalski/models/braai_d6_m9.h5\r\n",
      "Resolving github.com (github.com)... 192.30.255.113\r\n",
      "Connecting to github.com (github.com)|192.30.255.113|:443... connected.\r\n",
      "HTTP request sent, awaiting response... 302 Found\r\n",
      "Location: https://raw.githubusercontent.com/dmitryduev/kowalski/master/kowalski/models/braai_d6_m9.h5 [following]\r\n",
      "--2020-05-17 01:55:35--  https://raw.githubusercontent.com/dmitryduev/kowalski/master/kowalski/models/braai_d6_m9.h5\r\n",
      "Resolving raw.githubusercontent.com (raw.githubusercontent.com)... 151.101.24.133\r\n",
      "Connecting to raw.githubusercontent.com (raw.githubusercontent.com)|151.101.24.133|:443... connected.\r\n",
      "HTTP request sent, awaiting response... 200 OK\r\n",
      "Length: 3809888 (3.6M) [application/octet-stream]\r\n",
      "Saving to: ‘braai_d6_m9.h5.1’\r\n",
      "\r\n",
      "braai_d6_m9.h5.1    100%[===================>]   3.63M  7.22MB/s    in 0.5s    \r\n",
      "\r\n",
      "2020-05-17 01:55:36 (7.22 MB/s) - ‘braai_d6_m9.h5.1’ saved [3809888/3809888]\r\n",
      "\r\n"
     ]
    }
   ],
   "source": [
    "!wget https://github.com/dmitryduev/kowalski/raw/master/kowalski/models/braai_d6_m9.h5"
   ],
   "metadata": {
    "collapsed": false,
    "pycharm": {
     "name": "#%%\n"
    }
   }
  },
  {
   "cell_type": "markdown",
   "source": [
    "Load the model:"
   ],
   "metadata": {
    "collapsed": false,
    "pycharm": {
     "name": "#%% md\n"
    }
   }
  },
  {
   "cell_type": "code",
   "execution_count": 3,
   "outputs": [],
   "source": [
    "model = tf.keras.models.load_model('braai_d6_m9.h5')"
   ],
   "metadata": {
    "collapsed": false,
    "pycharm": {
     "name": "#%%\n"
    }
   }
  },
  {
   "cell_type": "code",
   "execution_count": 4,
   "outputs": [
    {
     "name": "stdout",
     "output_type": "stream",
     "text": [
      "Model: \"VGG6\"\n",
      "_________________________________________________________________\n",
      "Layer (type)                 Output Shape              Param #   \n",
      "=================================================================\n",
      "conv1 (Conv2D)               (None, 61, 61, 16)        448       \n",
      "_________________________________________________________________\n",
      "conv2 (Conv2D)               (None, 59, 59, 16)        2320      \n",
      "_________________________________________________________________\n",
      "max_pooling2d (MaxPooling2D) (None, 29, 29, 16)        0         \n",
      "_________________________________________________________________\n",
      "dropout (Dropout)            (None, 29, 29, 16)        0         \n",
      "_________________________________________________________________\n",
      "conv3 (Conv2D)               (None, 27, 27, 32)        4640      \n",
      "_________________________________________________________________\n",
      "conv4 (Conv2D)               (None, 25, 25, 32)        9248      \n",
      "_________________________________________________________________\n",
      "max_pooling2d_1 (MaxPooling2 (None, 6, 6, 32)          0         \n",
      "_________________________________________________________________\n",
      "dropout_1 (Dropout)          (None, 6, 6, 32)          0         \n",
      "_________________________________________________________________\n",
      "flatten (Flatten)            (None, 1152)              0         \n",
      "_________________________________________________________________\n",
      "fc_1 (Dense)                 (None, 256)               295168    \n",
      "_________________________________________________________________\n",
      "dropout_2 (Dropout)          (None, 256)               0         \n",
      "_________________________________________________________________\n",
      "fc_out (Dense)               (None, 1)                 257       \n",
      "=================================================================\n",
      "Total params: 312,081\n",
      "Trainable params: 312,081\n",
      "Non-trainable params: 0\n",
      "_________________________________________________________________\n"
     ]
    }
   ],
   "source": [
    "model.summary()"
   ],
   "metadata": {
    "collapsed": false,
    "pycharm": {
     "name": "#%%\n"
    }
   }
  },
  {
   "cell_type": "markdown",
   "source": [
    "Use the functional API of `tf.keras`.\n",
    "\n",
    "Remove the output layer, leave the feature extraction part of the network in place:"
   ],
   "metadata": {
    "collapsed": false,
    "pycharm": {
     "name": "#%% md\n"
    }
   }
  },
  {
   "cell_type": "code",
   "execution_count": 5,
   "outputs": [
    {
     "name": "stdout",
     "output_type": "stream",
     "text": [
      "Model: \"model\"\n",
      "_________________________________________________________________\n",
      "Layer (type)                 Output Shape              Param #   \n",
      "=================================================================\n",
      "conv1_input (InputLayer)     [(None, 63, 63, 3)]       0         \n",
      "_________________________________________________________________\n",
      "conv1 (Conv2D)               (None, 61, 61, 16)        448       \n",
      "_________________________________________________________________\n",
      "conv2 (Conv2D)               (None, 59, 59, 16)        2320      \n",
      "_________________________________________________________________\n",
      "max_pooling2d (MaxPooling2D) (None, 29, 29, 16)        0         \n",
      "_________________________________________________________________\n",
      "dropout (Dropout)            (None, 29, 29, 16)        0         \n",
      "_________________________________________________________________\n",
      "conv3 (Conv2D)               (None, 27, 27, 32)        4640      \n",
      "_________________________________________________________________\n",
      "conv4 (Conv2D)               (None, 25, 25, 32)        9248      \n",
      "_________________________________________________________________\n",
      "max_pooling2d_1 (MaxPooling2 (None, 6, 6, 32)          0         \n",
      "_________________________________________________________________\n",
      "dropout_1 (Dropout)          (None, 6, 6, 32)          0         \n",
      "_________________________________________________________________\n",
      "flatten (Flatten)            (None, 1152)              0         \n",
      "_________________________________________________________________\n",
      "fc_1 (Dense)                 (None, 256)               295168    \n",
      "_________________________________________________________________\n",
      "dropout_2 (Dropout)          (None, 256)               0         \n",
      "=================================================================\n",
      "Total params: 311,824\n",
      "Trainable params: 311,824\n",
      "Non-trainable params: 0\n",
      "_________________________________________________________________\n"
     ]
    }
   ],
   "source": [
    "model_fe = tf.keras.Model(inputs=model.inputs, outputs=model.layers[-2].output)\n",
    "model_fe.summary()"
   ],
   "metadata": {
    "collapsed": false,
    "pycharm": {
     "name": "#%%\n"
    }
   }
  },
  {
   "cell_type": "markdown",
   "source": [
    "Create a new output layer that will provide the probabilities for our three classes."
   ],
   "metadata": {
    "collapsed": false,
    "pycharm": {
     "name": "#%% md\n"
    }
   }
  },
  {
   "cell_type": "code",
   "execution_count": 6,
   "outputs": [],
   "source": [
    "output = tf.keras.layers.Dense(2, activation='softmax')(model_fe.output)"
   ],
   "metadata": {
    "collapsed": false,
    "pycharm": {
     "name": "#%%\n"
    }
   }
  },
  {
   "cell_type": "code",
   "execution_count": 7,
   "outputs": [],
   "source": [
    "model_tl = tf.keras.Model(inputs=model_fe.inputs, outputs=output)"
   ],
   "metadata": {
    "collapsed": false,
    "pycharm": {
     "name": "#%%\n"
    }
   }
  },
  {
   "cell_type": "code",
   "execution_count": 8,
   "outputs": [],
   "source": [
    "# mark layers as not trainable\n",
    "# for layer in model_tl.layers[:-1]:\n",
    "# \tlayer.trainable = False\n"
   ],
   "metadata": {
    "collapsed": false,
    "pycharm": {
     "name": "#%%\n"
    }
   }
  },
  {
   "cell_type": "code",
   "execution_count": 19,
   "outputs": [],
   "source": [
    "model_tl.compile(\n",
    "    optimizer='adam',\n",
    "    loss='categorical_crossentropy',\n",
    "    metrics=[\n",
    "        tf.keras.metrics.TruePositives(name='tp'),\n",
    "        tf.keras.metrics.FalsePositives(name='fp'),\n",
    "        tf.keras.metrics.TrueNegatives(name='tn'),\n",
    "        tf.keras.metrics.FalseNegatives(name='fn'),\n",
    "        tf.keras.metrics.BinaryAccuracy(name='accuracy'),\n",
    "        tf.keras.metrics.Precision(name='precision'),\n",
    "        tf.keras.metrics.Recall(name='recall'),\n",
    "        tf.keras.metrics.AUC(name='auc'),\n",
    "    ]\n",
    ")"
   ],
   "metadata": {
    "collapsed": false,
    "pycharm": {
     "name": "#%%\n"
    }
   }
  },
  {
   "cell_type": "markdown",
   "source": [
    "### The data"
   ],
   "metadata": {
    "collapsed": false
   }
  },
  {
   "cell_type": "code",
   "execution_count": 9,
   "outputs": [],
   "source": [
    "p = pathlib.Path('data')\n",
    "\n",
    "bogus = np.array([np.load(pp) for pp in (p / 'bogus').glob('*.npy')])\n",
    "real = np.array([np.load(pp) for pp in (p / 'real').glob('*.npy')])\n",
    "# platypus = np.array([np.load(pp) for pp in (p / 'platypus').glob('*.npy')])\n",
    "\n",
    "data = np.vstack((bogus, real))"
   ],
   "metadata": {
    "collapsed": false,
    "pycharm": {
     "name": "#%%\n"
    }
   }
  },
  {
   "cell_type": "code",
   "execution_count": 10,
   "outputs": [
    {
     "data": {
      "text/plain": "((100, 63, 63, 3), (100, 63, 63, 3))"
     },
     "execution_count": 10,
     "metadata": {},
     "output_type": "execute_result"
    }
   ],
   "source": [
    "bogus.shape, real.shape"
   ],
   "metadata": {
    "collapsed": false,
    "pycharm": {
     "name": "#%%\n"
    }
   }
  },
  {
   "cell_type": "markdown",
   "source": [
    "Make labels:"
   ],
   "metadata": {
    "collapsed": false,
    "pycharm": {
     "name": "#%% md\n"
    }
   }
  },
  {
   "cell_type": "code",
   "execution_count": 11,
   "outputs": [],
   "source": [
    "indices = [0 for _ in range(bogus.shape[0])] +\\\n",
    "    [1 for _ in range(real.shape[0])]\n",
    "labels = tf.one_hot(indices, depth=2, dtype=tf.int8).numpy()\n",
    "# labels\n"
   ],
   "metadata": {
    "collapsed": false,
    "pycharm": {
     "name": "#%%\n"
    }
   }
  },
  {
   "cell_type": "markdown",
   "source": [
    "Train/validation/test split (we will use an 81\\% / 9\\% / 10\\% data split):"
   ],
   "metadata": {
    "collapsed": false,
    "pycharm": {
     "name": "#%% md\n"
    }
   }
  },
  {
   "cell_type": "code",
   "execution_count": 12,
   "outputs": [],
   "source": [
    "test_size = 0.1\n",
    "val_size = 0.1\n",
    "random_state = 42\n",
    "\n",
    "train_indexes, test_indexes = train_test_split(range(len(labels)), shuffle=True,\n",
    "                                               test_size=test_size, random_state=random_state)\n",
    "train_indexes, val_indexes = train_test_split(train_indexes, shuffle=True,\n",
    "                                              test_size=val_size, random_state=random_state)"
   ],
   "metadata": {
    "collapsed": false,
    "pycharm": {
     "name": "#%%\n"
    }
   }
  },
  {
   "cell_type": "code",
   "execution_count": 13,
   "outputs": [],
   "source": [
    "batch_size = 4\n",
    "shuffle_buffer_size = 4\n",
    "\n",
    "epochs = 20\n"
   ],
   "metadata": {
    "collapsed": false,
    "pycharm": {
     "name": "#%%\n"
    }
   }
  },
  {
   "cell_type": "code",
   "execution_count": 24,
   "outputs": [],
   "source": [
    "train_dataset = tf.data.Dataset.from_tensor_slices((data[train_indexes], labels[train_indexes]))\n",
    "val_dataset = tf.data.Dataset.from_tensor_slices((data[val_indexes], labels[val_indexes]))\n",
    "test_dataset = tf.data.Dataset.from_tensor_slices((data[test_indexes], labels[test_indexes]))"
   ],
   "metadata": {
    "collapsed": false,
    "pycharm": {
     "name": "#%%\n"
    }
   }
  },
  {
   "cell_type": "code",
   "execution_count": 25,
   "outputs": [],
   "source": [
    "# train_dataset = train_dataset.shuffle(shuffle_buffer_size).batch(batch_size).repeat(epochs)\n",
    "# flipping:\n",
    "train_dataset = train_dataset.cache().map(\n",
    "    lambda image, label: (tf.image.random_flip_left_right(image), label)\n",
    ").map(\n",
    "    lambda image, label: (tf.image.random_flip_up_down(image), label)\n",
    ").shuffle(shuffle_buffer_size).batch(batch_size).repeat(epochs)\n",
    "val_dataset = val_dataset.batch(batch_size).repeat(epochs)\n",
    "test_dataset = test_dataset.batch(batch_size)"
   ],
   "metadata": {
    "collapsed": false,
    "pycharm": {
     "name": "#%%\n"
    }
   }
  },
  {
   "cell_type": "code",
   "execution_count": 26,
   "outputs": [
    {
     "data": {
      "text/plain": "(39, 3, 4)"
     },
     "execution_count": 26,
     "metadata": {},
     "output_type": "execute_result"
    }
   ],
   "source": [
    "steps_per_epoch_train = len(train_indexes) // batch_size - 1\n",
    "steps_per_epoch_val = len(val_indexes) // batch_size - 1\n",
    "steps_per_epoch_test = len(test_indexes) // batch_size - 1\n",
    "steps_per_epoch_train, steps_per_epoch_val, steps_per_epoch_test"
   ],
   "metadata": {
    "collapsed": false,
    "pycharm": {
     "name": "#%%\n"
    }
   }
  },
  {
   "cell_type": "code",
   "execution_count": 31,
   "outputs": [
    {
     "data": {
      "text/plain": "HBox(children=(FloatProgress(value=1.0, bar_style='info', max=1.0), HTML(value='')))",
      "application/vnd.jupyter.widget-view+json": {
       "version_major": 2,
       "version_minor": 0,
       "model_id": "f6211ba2987541fe873f3d63bd7af709"
      }
     },
     "metadata": {},
     "output_type": "display_data"
    },
    {
     "data": {
      "text/plain": "HBox(children=(FloatProgress(value=1.0, bar_style='info', max=1.0), HTML(value='')))",
      "application/vnd.jupyter.widget-view+json": {
       "version_major": 2,
       "version_minor": 0,
       "model_id": "3f1dfc33f71c4d56baeb91a7071c5a59"
      }
     },
     "metadata": {},
     "output_type": "display_data"
    }
   ],
   "source": [
    "early_stopping_callback = tf.keras.callbacks.EarlyStopping(\n",
    "    monitor='val_loss',\n",
    "    patience=5,\n",
    "    restore_best_weights=True\n",
    ")\n",
    "\n",
    "tqdm_callback = TqdmCallback(verbose=1)\n",
    "\n",
    "callbacks = [\n",
    "    early_stopping_callback,\n",
    "    tqdm_callback,\n",
    "]"
   ],
   "metadata": {
    "collapsed": false,
    "pycharm": {
     "name": "#%%\n"
    }
   }
  },
  {
   "cell_type": "code",
   "execution_count": 32,
   "outputs": [
    {
     "name": "stdout",
     "output_type": "stream",
     "text": [
      "\n"
     ]
    }
   ],
   "source": [
    "h = model_tl.fit(\n",
    "    train_dataset, epochs=epochs, steps_per_epoch=steps_per_epoch_train,\n",
    "    callbacks=callbacks,\n",
    "    validation_data=val_dataset, validation_steps=steps_per_epoch_val,\n",
    "    verbose=0)"
   ],
   "metadata": {
    "collapsed": false,
    "pycharm": {
     "name": "#%%\n"
    }
   }
  },
  {
   "cell_type": "code",
   "execution_count": 33,
   "outputs": [
    {
     "name": "stdout",
     "output_type": "stream",
     "text": [
      "5/5 [==============================] - 0s 12ms/step - loss: 1.8121e-04 - tp: 20.0000 - fp: 0.0000e+00 - tn: 20.0000 - fn: 0.0000e+00 - accuracy: 1.0000 - precision: 1.0000 - recall: 1.0000 - auc: 1.0000\b\b\b\b\b\b\b\b\b\b\b\b\b\b\b\b\b\b\b\b\b\b\b\b\b\b\b\b\b\b\b\b\b\b\b\b\b\b\b\b\b\b\b\b\b\b\b\b\b\b\b\b\b\b\b\b\b\b\b\b\b\b\b\b\b\b\b\b\b\b\b\b\b\b\b\b\b\b\b\b\b\b\b\b\b\b\b\b\b\b\b\b\b\b\b\b\b\b\b\b\b\b\b\b\b\b\b\b\b\b\b\b\b\b\b\b\b\b\b\b\b\b\b\b\b\b\b\b\b\b\b\b\b\b\b\b\b\b\b\b\b\b\b\b\b\b\b\b\b\b\b\b\b\b\b\b\b\b\b\b\b\b\b\b\b\b\b\b\b\b\b\b\b\b\b\b\b\b\b\b\b\b\b\b\b\b\b\b\b\b\b\b\b\b\b\b\b\b\b\b\b\b\b\b\b\b\b\b\b\b\b\b\b\b\b\b\b\b\b\b\b\b\b\b\b\b\b\b\b\b\b\b\b\b\b\b\b\b\b\b\b\b\b\b\b\b\b\b\b\b\b\b\b\b\b\b\b\b\b\b\b\b\b\b\b\b\b\b\b\b\b\b\b\b\b\b\b\b\b\b\b\b\b\b\b\b\b\b\b\b\b\b\b\b\b\b\b\b\b\b\b\b\b\b\b\b\b\b\b\b\b\b\b\b\b\b\b\b\b\b\b\b\b\b\b\b\b\b\b\b\b\b\b\b\b\b\b\b\b\b\b\b\b\b\b\b\b\b\b\b\b\b\b\b\b\b\b\b\b\b\b\b\b\b\b\b\b\b\b\b\b\b\b\b\b\b\b\b\b\b\b\b\b\b\b\n"
     ]
    },
    {
     "data": {
      "text/plain": "[0.00018121306493412703, 20.0, 0.0, 20.0, 0.0, 1.0, 1.0, 1.0, 1.0]"
     },
     "execution_count": 33,
     "metadata": {},
     "output_type": "execute_result"
    }
   ],
   "source": [
    "model_tl.evaluate(test_dataset)"
   ],
   "metadata": {
    "collapsed": false,
    "pycharm": {
     "name": "#%%\n"
    }
   }
  },
  {
   "cell_type": "code",
   "execution_count": null,
   "outputs": [],
   "source": [
    "\n"
   ],
   "metadata": {
    "collapsed": false,
    "pycharm": {
     "name": "#%%\n"
    }
   }
  }
 ],
 "metadata": {
  "kernelspec": {
   "display_name": "Python 3",
   "language": "python",
   "name": "python3"
  },
  "language_info": {
   "codemirror_mode": {
    "name": "ipython",
    "version": 2
   },
   "file_extension": ".py",
   "mimetype": "text/x-python",
   "name": "python",
   "nbconvert_exporter": "python",
   "pygments_lexer": "ipython2",
   "version": "2.7.6"
  }
 },
 "nbformat": 4,
 "nbformat_minor": 0
}